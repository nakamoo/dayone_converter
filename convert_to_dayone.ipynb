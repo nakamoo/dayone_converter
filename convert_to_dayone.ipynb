{
 "cells": [
  {
   "cell_type": "code",
   "execution_count": 71,
   "metadata": {
    "collapsed": true
   },
   "outputs": [],
   "source": [
    "import os\n",
    "import json\n",
    "import time\n",
    "from datetime import datetime as dt\n",
    "import xml.etree.ElementTree as ET"
   ]
  },
  {
   "cell_type": "code",
   "execution_count": 5,
   "metadata": {},
   "outputs": [],
   "source": [
    "# journey\n",
    "paths = os.listdir('./journey')"
   ]
  },
  {
   "cell_type": "code",
   "execution_count": 33,
   "metadata": {},
   "outputs": [],
   "source": [
    "for path in paths:\n",
    "    with open('./journey/' + path) as f:\n",
    "        data = json.load(f)\n",
    "    time_diary = time.localtime(int(data['date_journal']/1000))\n",
    "    with open('journey.txt', 'a') as f: \n",
    "        f.write('\\n') \n",
    "        f.write('\\tDate:\\t') \n",
    "        f.write(time.strftime(\"%Y年%m月%d日  %H:%M\", time_diary))\n",
    "        f.write('\\n\\n') \n",
    "        f.write(data['text']) \n",
    "        f.write('\\n') \n",
    "    "
   ]
  },
  {
   "cell_type": "code",
   "execution_count": 34,
   "metadata": {
    "collapsed": true
   },
   "outputs": [],
   "source": [
    "# Osciroi\n",
    "paths = os.listdir('./osc_text')"
   ]
  },
  {
   "cell_type": "code",
   "execution_count": 87,
   "metadata": {},
   "outputs": [],
   "source": [
    "hoge = []\n",
    "dateflag = False\n",
    "contentflag = False\n",
    "for path in paths:\n",
    "    with open('./osciroi.txt', 'a') as f:\n",
    "        with open('./osc_text/' + path, 'rb') as lines:\n",
    "            for line in lines:\n",
    "                line = line.decode('shift-jis')\n",
    "                line = line.replace('\\r', '') \n",
    "                if dateflag:\n",
    "                    date = dt.strptime(line, '%Y/%m/%d %H:%M:%S\\n') \n",
    "                    f.write('\\n') \n",
    "                    f.write('\\tDate:\\t') \n",
    "                    f.write(date.strftime(\"%Y年%m月%d日  %H:%M\")) \n",
    "                    f.write('\\n\\n') \n",
    "                    dateflag = False\n",
    "                    \n",
    "                if line == '>dat\\n':\n",
    "                    dateflag = True\n",
    "                    \n",
    "                if line == '<\\n':\n",
    "                    contentflag = False\n",
    "                    \n",
    "                if contentflag:\n",
    "                    f.write(line)\n",
    "                    \n",
    "                if line == '>con\\n':\n",
    "                    contentflag = True"
   ]
  },
  {
   "cell_type": "code",
   "execution_count": 89,
   "metadata": {
    "collapsed": true
   },
   "outputs": [],
   "source": [
    "# Osciroi(新しいやつ)\n",
    "paths = os.listdir('./osc_new_2012')"
   ]
  },
  {
   "cell_type": "code",
   "execution_count": 134,
   "metadata": {
    "collapsed": true
   },
   "outputs": [],
   "source": [
    "with open('./osciroi_new.txt', 'a') as f:\n",
    "    for path in paths:\n",
    "        tree = ET.parse('./osc_new_2012/' + path)\n",
    "        date = tree.find('journal/date').text\n",
    "        date = dt.strptime(date, '%Y-%m-%d %H:%M:%S +0900') \n",
    "        f.write('\\n') \n",
    "        f.write('\\tDate:\\t') \n",
    "        f.write(date.strftime(\"%Y年%m月%d日  %H:%M\")) \n",
    "        f.write('\\n\\n') \n",
    "        \n",
    "        content = tree.find('journal/body').text\n",
    "        f.write(content)\n",
    "        f.write('\\n') "
   ]
  }
 ],
 "metadata": {
  "kernelspec": {
   "display_name": "Python 3",
   "language": "python",
   "name": "python3"
  },
  "language_info": {
   "codemirror_mode": {
    "name": "ipython",
    "version": 3
   },
   "file_extension": ".py",
   "mimetype": "text/x-python",
   "name": "python",
   "nbconvert_exporter": "python",
   "pygments_lexer": "ipython3",
   "version": "3.5.3"
  }
 },
 "nbformat": 4,
 "nbformat_minor": 2
}
